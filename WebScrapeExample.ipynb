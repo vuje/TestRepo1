{
  "nbformat": 4,
  "nbformat_minor": 0,
  "metadata": {
    "colab": {
      "provenance": [],
      "authorship_tag": "ABX9TyOfjTVteH2fg2KkqdYJDAfs",
      "include_colab_link": true
    },
    "kernelspec": {
      "name": "python3",
      "display_name": "Python 3"
    },
    "language_info": {
      "name": "python"
    }
  },
  "cells": [
    {
      "cell_type": "markdown",
      "metadata": {
        "id": "view-in-github",
        "colab_type": "text"
      },
      "source": [
        "<a href=\"https://colab.research.google.com/github/vuje/TestRepo1/blob/main/WebScrapeExample.ipynb\" target=\"_parent\"><img src=\"https://colab.research.google.com/assets/colab-badge.svg\" alt=\"Open In Colab\"/></a>"
      ]
    },
    {
      "cell_type": "code",
      "execution_count": 1,
      "metadata": {
        "id": "Y4jQFBCqhJe0"
      },
      "outputs": [],
      "source": [
        "import requests\n",
        "from bs4 import BeautifulSoup as x"
      ]
    },
    {
      "cell_type": "code",
      "source": [
        "#look at page content\n",
        "#r = requests.get('https://www.python.org/about/quotes/')\n",
        "#r1 = requests.get('https://keithgalli.github.io/web-scraping/example.html')\n",
        "#r3 = requests.get()\n",
        "r4 = requests.get('https://keithgalli.github.io/web-scraping/webpage.html')\n",
        "\n",
        "soup = x(r4.content)\n",
        "print (soup.prettify())\n",
        "\n",
        "#soup1 = x(r1.content)\n",
        "#print (soup1.prettify())"
      ],
      "metadata": {
        "id": "iOUvrN-5hYNk"
      },
      "execution_count": null,
      "outputs": []
    },
    {
      "cell_type": "code",
      "source": [
        "#\n",
        "first_header = soup.find_all(\"a\")\n",
        "first_header\n",
        "\n"
      ],
      "metadata": {
        "id": "v7pxIMuki01Y"
      },
      "execution_count": null,
      "outputs": []
    },
    {
      "cell_type": "code",
      "source": [
        "#Pass in a list of elements to look at\n",
        "first_header = soup.find([\"h1\", \"h2\"])\n",
        "#first_header\n",
        "\n",
        "headers = soup.find_all([\"h2\", \"h3\"])\n",
        "headers"
      ],
      "metadata": {
        "colab": {
          "base_uri": "https://localhost:8080/"
        },
        "id": "VV74Mpb7vOef",
        "outputId": "1477de15-616f-42e0-e92e-c27726e91be9"
      },
      "execution_count": 21,
      "outputs": [
        {
          "output_type": "execute_result",
          "data": {
            "text/plain": [
              "[<h2>About me</h2>,\n",
              " <h3>Hobbies</h3>,\n",
              " <h3>Fun Facts</h3>,\n",
              " <h2>Social Media</h2>,\n",
              " <h2>Photos</h2>,\n",
              " <h2> Table </h2>,\n",
              " <h2>Mystery Message Challenge!</h2>,\n",
              " <h2>Footnotes</h2>]"
            ]
          },
          "metadata": {},
          "execution_count": 21
        }
      ]
    },
    {
      "cell_type": "code",
      "source": [
        "#  Can pass in atrributes to the find and find_all function\n",
        "paragraph = soup.find_all(\"p\")\n",
        "paragraph"
      ],
      "metadata": {
        "colab": {
          "base_uri": "https://localhost:8080/"
        },
        "id": "5AArZClwvcTV",
        "outputId": "8dfbc63d-dd2a-453f-d763-bce4e76aa33b"
      },
      "execution_count": 22,
      "outputs": [
        {
          "output_type": "execute_result",
          "data": {
            "text/plain": [
              "[<p>Hi, my name is Keith and I am a YouTuber who focuses on content related to programming, data science, and machine learning!</p>,\n",
              " <p>Here is a link to my channel: <a href=\"https://www.youtube.com/kgmit\">youtube.com/kgmit</a></p>,\n",
              " <p>I grew up in the great state of New Hampshire here in the USA. From an early age I always loved math. Around my senior year of high school, my brother first introduced me to programming. I found it a creative way to apply the same type of logical thinking skills that I enjoyed with math. This influenced me to study computer science in college and ultimately create a YouTube channel to share some things that I have learned along the way.</p>,\n",
              " <p>Believe it or not, I don't code 24/7. I love doing all sorts of active things. I like to play ice hockey &amp; table tennis as well as run, hike, skateboard, and snowboard. In addition to sports, I am a board game enthusiast. The two that I've been playing the most recently are <i>Settlers of Catan</i> and <i>Othello</i>.</p>,\n",
              " <p>If you scrape the links below grabbing the &lt;p&gt; tag with id=\"secret-word\", you'll discover a secret message :)</p>,\n",
              " <p id=\"footer\">1. This was actually a minivan that I named Debora. Maybe not my dream car, but I loved her nonetheless.</p>]"
            ]
          },
          "metadata": {},
          "execution_count": 22
        }
      ]
    },
    {
      "cell_type": "code",
      "source": [],
      "metadata": {
        "id": "Hz_uYUOXw5HE"
      },
      "execution_count": null,
      "outputs": []
    }
  ]
}